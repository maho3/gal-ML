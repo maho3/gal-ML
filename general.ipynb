{
 "cells": [
  {
   "cell_type": "markdown",
   "metadata": {},
   "source": [
    "# Michelle's Data (HeCS_pared_small.npy)"
   ]
  },
  {
   "cell_type": "code",
   "execution_count": 31,
   "metadata": {
    "scrolled": true
   },
   "outputs": [],
   "source": [
    "import numpy as np\n",
    "dat = np.load('./data/HeCS_pared_small.npy')\n",
    "\n",
    "# for n in range(len(dat)):\n",
    "#     print('')\n",
    "#     Ngal = dat['Ngal'][n]\n",
    "#     print('cluster index:', n)\n",
    "#     print('velocity standard deviation:', np.std(dat['vlos'][n][0:Ngal])) \n",
    "#     print ('cluster M500 from SZ:', dat['MSZ'][n])\n",
    "#     print ('cluster M200c:', dat['Mtot'][n])\n",
    "#     print ('  ')"
   ]
  },
  {
   "cell_type": "code",
   "execution_count": 32,
   "metadata": {
    "scrolled": true
   },
   "outputs": [],
   "source": [
    "import pandas as pd\n",
    "\n",
    "datasum = pd.DataFrame(columns = ['velsigma','M500_SZ','M200c'], index = range(len(dat)))\n",
    "\n",
    "for n in range(len(dat)):\n",
    "    Ngal = dat['Ngal'][n]\n",
    "    \n",
    "    velsigma = np.std(dat['vlos'][n][0:Ngal])\n",
    "    m500 = dat['MSZ'][n]\n",
    "    m200c = dat['Mtot'][n]\n",
    "    \n",
    "    datasum.loc[n] = pd.Series({'velsigma':velsigma ,\n",
    "                                'M500_SZ' : m500 ,\n",
    "                                'M200c' : m200c })"
   ]
  },
  {
   "cell_type": "code",
   "execution_count": 50,
   "metadata": {},
   "outputs": [],
   "source": [
    "\n",
    "## PURE POWER LAW\n",
    "alpha = 0.382\n",
    "sig15 = 1244\n",
    "\n",
    "## CONTAMINATED POWER LAW\n",
    "# alpha = 0.359\n",
    "# sig15 = 753\n",
    "\n",
    "M_pow = (datasum['velsigma']/sig15)**(1/alpha) * 1.e15\n",
    "M_pow.name = 'M_powlaw'\n",
    "\n",
    "ep_m200c = (M_pow - datasum['M200c'])/datasum['M200c']\n",
    "ep_m200c.name = 'ep_M200c'\n",
    "\n",
    "datacalc = pd.concat([M_pow,ep_m200c], axis=1)"
   ]
  },
  {
   "cell_type": "code",
   "execution_count": 54,
   "metadata": {},
   "outputs": [
    {
     "data": {
      "text/html": [
       "<div>\n",
       "<style>\n",
       "    .dataframe thead tr:only-child th {\n",
       "        text-align: right;\n",
       "    }\n",
       "\n",
       "    .dataframe thead th {\n",
       "        text-align: left;\n",
       "    }\n",
       "\n",
       "    .dataframe tbody tr th {\n",
       "        vertical-align: top;\n",
       "    }\n",
       "</style>\n",
       "<table border=\"1\" class=\"dataframe\">\n",
       "  <thead>\n",
       "    <tr style=\"text-align: right;\">\n",
       "      <th></th>\n",
       "      <th>velsigma</th>\n",
       "      <th>M500_SZ</th>\n",
       "      <th>M200c</th>\n",
       "      <th>M_powlaw</th>\n",
       "      <th>ep_M200c</th>\n",
       "    </tr>\n",
       "  </thead>\n",
       "  <tbody>\n",
       "    <tr>\n",
       "      <th>0</th>\n",
       "      <td>843.07</td>\n",
       "      <td>2.324e+14</td>\n",
       "      <td>2.77e+14</td>\n",
       "      <td>3.61164e+14</td>\n",
       "      <td>0.30384</td>\n",
       "    </tr>\n",
       "    <tr>\n",
       "      <th>1</th>\n",
       "      <td>747.848</td>\n",
       "      <td>2.681e+14</td>\n",
       "      <td>2.92e+14</td>\n",
       "      <td>2.63905e+14</td>\n",
       "      <td>-0.0962168</td>\n",
       "    </tr>\n",
       "    <tr>\n",
       "      <th>2</th>\n",
       "      <td>426.237</td>\n",
       "      <td>1.141e+14</td>\n",
       "      <td>1.19e+14</td>\n",
       "      <td>6.0573e+13</td>\n",
       "      <td>-0.490983</td>\n",
       "    </tr>\n",
       "    <tr>\n",
       "      <th>3</th>\n",
       "      <td>753.334</td>\n",
       "      <td>3.43e+14</td>\n",
       "      <td>2.5e+14</td>\n",
       "      <td>2.69003e+14</td>\n",
       "      <td>0.0760117</td>\n",
       "    </tr>\n",
       "    <tr>\n",
       "      <th>4</th>\n",
       "      <td>690.516</td>\n",
       "      <td>2.338e+14</td>\n",
       "      <td>1.77e+14</td>\n",
       "      <td>2.14175e+14</td>\n",
       "      <td>0.210027</td>\n",
       "    </tr>\n",
       "    <tr>\n",
       "      <th>5</th>\n",
       "      <td>485.47</td>\n",
       "      <td>1.309e+14</td>\n",
       "      <td>2.02e+14</td>\n",
       "      <td>8.51558e+13</td>\n",
       "      <td>-0.578437</td>\n",
       "    </tr>\n",
       "    <tr>\n",
       "      <th>6</th>\n",
       "      <td>670.823</td>\n",
       "      <td>1.26e+14</td>\n",
       "      <td>1.34e+14</td>\n",
       "      <td>1.98552e+14</td>\n",
       "      <td>0.48173</td>\n",
       "    </tr>\n",
       "    <tr>\n",
       "      <th>7</th>\n",
       "      <td>706.867</td>\n",
       "      <td>2.8e+14</td>\n",
       "      <td>2.26e+14</td>\n",
       "      <td>2.27706e+14</td>\n",
       "      <td>0.00754944</td>\n",
       "    </tr>\n",
       "    <tr>\n",
       "      <th>8</th>\n",
       "      <td>750.748</td>\n",
       "      <td>3.437e+14</td>\n",
       "      <td>2.04e+14</td>\n",
       "      <td>2.66592e+14</td>\n",
       "      <td>0.306824</td>\n",
       "    </tr>\n",
       "    <tr>\n",
       "      <th>9</th>\n",
       "      <td>781.662</td>\n",
       "      <td>3.409e+14</td>\n",
       "      <td>4.04e+14</td>\n",
       "      <td>2.96295e+14</td>\n",
       "      <td>-0.266597</td>\n",
       "    </tr>\n",
       "    <tr>\n",
       "      <th>10</th>\n",
       "      <td>751.004</td>\n",
       "      <td>8.036e+14</td>\n",
       "      <td>4.42e+14</td>\n",
       "      <td>2.6683e+14</td>\n",
       "      <td>-0.396312</td>\n",
       "    </tr>\n",
       "    <tr>\n",
       "      <th>11</th>\n",
       "      <td>822.919</td>\n",
       "      <td>3.878e+14</td>\n",
       "      <td>1.47e+14</td>\n",
       "      <td>3.39e+14</td>\n",
       "      <td>1.30612</td>\n",
       "    </tr>\n",
       "    <tr>\n",
       "      <th>12</th>\n",
       "      <td>823.836</td>\n",
       "      <td>4.956e+14</td>\n",
       "      <td>7.84e+14</td>\n",
       "      <td>3.39991e+14</td>\n",
       "      <td>-0.566338</td>\n",
       "    </tr>\n",
       "    <tr>\n",
       "      <th>13</th>\n",
       "      <td>674.572</td>\n",
       "      <td>2.842e+14</td>\n",
       "      <td>3.52e+14</td>\n",
       "      <td>2.01469e+14</td>\n",
       "      <td>-0.427644</td>\n",
       "    </tr>\n",
       "    <tr>\n",
       "      <th>14</th>\n",
       "      <td>697.52</td>\n",
       "      <td>2.555e+14</td>\n",
       "      <td>2.37e+14</td>\n",
       "      <td>2.19908e+14</td>\n",
       "      <td>-0.0721177</td>\n",
       "    </tr>\n",
       "  </tbody>\n",
       "</table>\n",
       "</div>"
      ],
      "text/plain": [
       "   velsigma    M500_SZ     M200c     M_powlaw    ep_M200c\n",
       "0    843.07  2.324e+14  2.77e+14  3.61164e+14     0.30384\n",
       "1   747.848  2.681e+14  2.92e+14  2.63905e+14  -0.0962168\n",
       "2   426.237  1.141e+14  1.19e+14   6.0573e+13   -0.490983\n",
       "3   753.334   3.43e+14   2.5e+14  2.69003e+14   0.0760117\n",
       "4   690.516  2.338e+14  1.77e+14  2.14175e+14    0.210027\n",
       "5    485.47  1.309e+14  2.02e+14  8.51558e+13   -0.578437\n",
       "6   670.823   1.26e+14  1.34e+14  1.98552e+14     0.48173\n",
       "7   706.867    2.8e+14  2.26e+14  2.27706e+14  0.00754944\n",
       "8   750.748  3.437e+14  2.04e+14  2.66592e+14    0.306824\n",
       "9   781.662  3.409e+14  4.04e+14  2.96295e+14   -0.266597\n",
       "10  751.004  8.036e+14  4.42e+14   2.6683e+14   -0.396312\n",
       "11  822.919  3.878e+14  1.47e+14     3.39e+14     1.30612\n",
       "12  823.836  4.956e+14  7.84e+14  3.39991e+14   -0.566338\n",
       "13  674.572  2.842e+14  3.52e+14  2.01469e+14   -0.427644\n",
       "14   697.52  2.555e+14  2.37e+14  2.19908e+14  -0.0721177"
      ]
     },
     "execution_count": 54,
     "metadata": {},
     "output_type": "execute_result"
    }
   ],
   "source": [
    "datares = datasum.join(datacalc)\n",
    "\n",
    "datares.head(15)"
   ]
  },
  {
   "cell_type": "code",
   "execution_count": null,
   "metadata": {},
   "outputs": [],
   "source": [
    "import matplotlib as mpl\n",
    "% matplotlib inline\n",
    "mpl.rcParams['figure.figsize'] = [10.,10.]\n",
    "\n",
    "plt = mpl.pyplot"
   ]
  },
  {
   "cell_type": "code",
   "execution_count": 85,
   "metadata": {},
   "outputs": [],
   "source": [
    "def plothist(X,Y, n=10):\n",
    "    increment = (X.max() - X.min())/n\n",
    "    \n",
    "    i = X.min()\n",
    "    \n",
    "    y = []\n",
    "    err = []\n",
    "    while i < X.max():\n",
    "        y.append(Y[(X>=i) & (X<(i+increment))].mean())\n",
    "        err.append(Y[(X>=i) & (X<(i+increment))].std())\n",
    "        i += increment\n",
    "        \n",
    "    plt.errorbar(range(n+1)*increment + X.min() + increment/2.,\n",
    "                 y,\n",
    "                 err,\n",
    "                )"
   ]
  },
  {
   "cell_type": "code",
   "execution_count": 86,
   "metadata": {},
   "outputs": [
    {
     "data": {
      "image/png": "[encoded data removed]",
      "text/plain": [
       "<matplotlib.figure.Figure at 0x7f319d0fa9e8>"
      ]
     },
     "metadata": {},
     "output_type": "display_data"
    }
   ],
   "source": [
    "X = np.log10(datares['M200c'].astype('float64'))\n",
    "Y = np.log10(datares['M_powlaw'].astype('float64'))\n",
    "plt.plot(X,Y,'.')\n",
    "plt.xlabel('log[ M200c ]', fontsize=20)\n",
    "plt.ylabel('log[ M_powlaw ]', fontsize=20)\n",
    "\n",
    "plothist(X,Y,10)"
   ]
  },
  {
   "cell_type": "code",
   "execution_count": 87,
   "metadata": {},
   "outputs": [
    {
     "data": {
      "image/png": "[encoded data removed]",
      "text/plain": [
       "<matplotlib.figure.Figure at 0x7f319cecbcc0>"
      ]
     },
     "metadata": {},
     "output_type": "display_data"
    }
   ],
   "source": [
    "X = np.log10(datares['M200c'].astype('float64'))\n",
    "Y = (datares['ep_M200c'].astype('float64'))\n",
    "plt.plot(X,Y,'.')\n",
    "plt.xlabel('log[ M200c ]', fontsize=20)\n",
    "plt.ylabel(r'$\\epsilon_{M200c}$', fontsize=20)\n",
    "\n",
    "plothist(X,Y,10)"
   ]
  },
  {
   "cell_type": "code",
   "execution_count": 107,
   "metadata": {},
   "outputs": [
    {
     "name": "stdout",
     "output_type": "stream",
     "text": [
      "cluster index: 50\n",
      "velocity standard deviation: 820.842\n",
      "cluster M500 from SZ: 3.01e+14\n",
      "cluster M200c: 3.39e+14\n"
     ]
    },
    {
     "data": {
      "image/png": "[encoded data removed]",
      "text/plain": [
       "<matplotlib.figure.Figure at 0x7f319cd4aba8>"
      ]
     },
     "metadata": {},
     "output_type": "display_data"
    }
   ],
   "source": [
    "n = 50\n",
    "\n",
    "Ngal = dat['Ngal'][n]\n",
    "vlos = dat['vlos'][n][0:Ngal]\n",
    "\n",
    "h = plt.hist(vlos, 12)\n",
    "plt.xlabel(r'$v_{los}$', fontsize=20)\n",
    "plt.ylabel(r'$dN/dv$', fontsize=20)\n",
    "\n",
    "print('cluster index:', n)\n",
    "print('velocity standard deviation:', np.std(dat['vlos'][n][0:Ngal])) \n",
    "print ('cluster M500 from SZ:', dat['MSZ'][n])\n",
    "print ('cluster M200c:', dat['Mtot'][n])"
   ]
  },
  {
   "cell_type": "code",
   "execution_count": null,
   "metadata": {},
   "outputs": [],
   "source": []
  }
 ],
 "metadata": {
  "kernelspec": {
   "display_name": "Python 3",
   "language": "python",
   "name": "python3"
  },
  "language_info": {
   "codemirror_mode": {
    "name": "ipython",
    "version": 3
   },
   "file_extension": ".py",
   "mimetype": "text/x-python",
   "name": "python",
   "nbconvert_exporter": "python",
   "pygments_lexer": "ipython3",
   "version": "3.6.2"
  }
 },
 "nbformat": 4,
 "nbformat_minor": 2
}
