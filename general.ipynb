{
 "cells": [
  {
   "cell_type": "markdown",
   "metadata": {},
   "source": [
    "# Michelle's Data (HeCS_pared_small.npy)"
   ]
  },
  {
   "cell_type": "code",
   "execution_count": 11,
   "metadata": {
    "scrolled": true
   },
   "outputs": [],
   "source": [
    "import numpy as np\n",
    "dat = np.load('./data/HeCS_pared_small.npy')\n",
    "\n",
    "# for n in range(len(dat)):\n",
    "#     print('')\n",
    "#     Ngal = dat['Ngal'][n]\n",
    "#     print('cluster index:', n)\n",
    "#     print('velocity standard deviation:', np.std(dat['vlos'][n][0:Ngal])) \n",
    "#     print ('cluster M500 from SZ:', dat['MSZ'][n])\n",
    "#     print ('cluster M200c:', dat['Mtot'][n])\n",
    "#     print ('  ')"
   ]
  },
  {
   "cell_type": "code",
   "execution_count": 12,
   "metadata": {
    "scrolled": true
   },
   "outputs": [],
   "source": [
    "import pandas as pd\n",
    "\n",
    "datasum = pd.DataFrame(columns = ['velsigma','M500_SZ','M200c'], index = range(len(dat)))\n",
    "\n",
    "for n in range(len(dat)):\n",
    "    Ngal = dat['Ngal'][n]\n",
    "    \n",
    "    velsigma = np.std(dat['vlos'][n][0:Ngal])\n",
    "    m500 = dat['MSZ'][n]\n",
    "    m200c = dat['Mtot'][n]\n",
    "    \n",
    "    datasum.loc[n] = pd.Series({'velsigma':velsigma ,\n",
    "                                'M500_SZ' : m500 ,\n",
    "                                'M200c' : m200c })"
   ]
  },
  {
   "cell_type": "code",
   "execution_count": 13,
   "metadata": {},
   "outputs": [],
   "source": [
    "\n",
    "## PURE POWER LAW\n",
    "alpha = 0.382\n",
    "sig15 = 1244\n",
    "\n",
    "## CONTAMINATED POWER LAW\n",
    "# alpha = 0.359\n",
    "# sig15 = 753\n",
    "\n",
    "M_pow = (datasum['velsigma']/sig15)**(1/alpha) * 1.e15\n",
    "M_pow.name = 'M_powlaw'\n",
    "\n",
    "ep_m200c = (M_pow - datasum['M200c'])/datasum['M200c']\n",
    "ep_m200c.name = 'ep_M200c'\n",
    "\n",
    "datacalc = pd.concat([M_pow,ep_m200c], axis=1)"
   ]
  },
  {
   "cell_type": "code",
   "execution_count": 14,
   "metadata": {},
   "outputs": [
    {
     "data": {
      "text/html": [
       "<div>\n",
       "<style>\n",
       "    .dataframe thead tr:only-child th {\n",
       "        text-align: right;\n",
       "    }\n",
       "\n",
       "    .dataframe thead th {\n",
       "        text-align: left;\n",
       "    }\n",
       "\n",
       "    .dataframe tbody tr th {\n",
       "        vertical-align: top;\n",
       "    }\n",
       "</style>\n",
       "<table border=\"1\" class=\"dataframe\">\n",
       "  <thead>\n",
       "    <tr style=\"text-align: right;\">\n",
       "      <th></th>\n",
       "      <th>velsigma</th>\n",
       "      <th>M500_SZ</th>\n",
       "      <th>M200c</th>\n",
       "      <th>M_powlaw</th>\n",
       "      <th>ep_M200c</th>\n",
       "    </tr>\n",
       "  </thead>\n",
       "  <tbody>\n",
       "    <tr>\n",
       "      <th>0</th>\n",
       "      <td>843.07</td>\n",
       "      <td>2.324e+14</td>\n",
       "      <td>2.77e+14</td>\n",
       "      <td>3.61164e+14</td>\n",
       "      <td>0.30384</td>\n",
       "    </tr>\n",
       "    <tr>\n",
       "      <th>1</th>\n",
       "      <td>747.848</td>\n",
       "      <td>2.681e+14</td>\n",
       "      <td>2.92e+14</td>\n",
       "      <td>2.63905e+14</td>\n",
       "      <td>-0.0962168</td>\n",
       "    </tr>\n",
       "    <tr>\n",
       "      <th>2</th>\n",
       "      <td>426.237</td>\n",
       "      <td>1.141e+14</td>\n",
       "      <td>1.19e+14</td>\n",
       "      <td>6.0573e+13</td>\n",
       "      <td>-0.490983</td>\n",
       "    </tr>\n",
       "    <tr>\n",
       "      <th>3</th>\n",
       "      <td>753.334</td>\n",
       "      <td>3.43e+14</td>\n",
       "      <td>2.5e+14</td>\n",
       "      <td>2.69003e+14</td>\n",
       "      <td>0.0760117</td>\n",
       "    </tr>\n",
       "    <tr>\n",
       "      <th>4</th>\n",
       "      <td>690.516</td>\n",
       "      <td>2.338e+14</td>\n",
       "      <td>1.77e+14</td>\n",
       "      <td>2.14175e+14</td>\n",
       "      <td>0.210027</td>\n",
       "    </tr>\n",
       "    <tr>\n",
       "      <th>5</th>\n",
       "      <td>485.47</td>\n",
       "      <td>1.309e+14</td>\n",
       "      <td>2.02e+14</td>\n",
       "      <td>8.51558e+13</td>\n",
       "      <td>-0.578437</td>\n",
       "    </tr>\n",
       "    <tr>\n",
       "      <th>6</th>\n",
       "      <td>670.823</td>\n",
       "      <td>1.26e+14</td>\n",
       "      <td>1.34e+14</td>\n",
       "      <td>1.98552e+14</td>\n",
       "      <td>0.48173</td>\n",
       "    </tr>\n",
       "    <tr>\n",
       "      <th>7</th>\n",
       "      <td>706.867</td>\n",
       "      <td>2.8e+14</td>\n",
       "      <td>2.26e+14</td>\n",
       "      <td>2.27706e+14</td>\n",
       "      <td>0.00754944</td>\n",
       "    </tr>\n",
       "    <tr>\n",
       "      <th>8</th>\n",
       "      <td>750.748</td>\n",
       "      <td>3.437e+14</td>\n",
       "      <td>2.04e+14</td>\n",
       "      <td>2.66592e+14</td>\n",
       "      <td>0.306824</td>\n",
       "    </tr>\n",
       "    <tr>\n",
       "      <th>9</th>\n",
       "      <td>781.662</td>\n",
       "      <td>3.409e+14</td>\n",
       "      <td>4.04e+14</td>\n",
       "      <td>2.96295e+14</td>\n",
       "      <td>-0.266597</td>\n",
       "    </tr>\n",
       "    <tr>\n",
       "      <th>10</th>\n",
       "      <td>751.004</td>\n",
       "      <td>8.036e+14</td>\n",
       "      <td>4.42e+14</td>\n",
       "      <td>2.6683e+14</td>\n",
       "      <td>-0.396312</td>\n",
       "    </tr>\n",
       "    <tr>\n",
       "      <th>11</th>\n",
       "      <td>822.919</td>\n",
       "      <td>3.878e+14</td>\n",
       "      <td>1.47e+14</td>\n",
       "      <td>3.39e+14</td>\n",
       "      <td>1.30612</td>\n",
       "    </tr>\n",
       "    <tr>\n",
       "      <th>12</th>\n",
       "      <td>823.836</td>\n",
       "      <td>4.956e+14</td>\n",
       "      <td>7.84e+14</td>\n",
       "      <td>3.39991e+14</td>\n",
       "      <td>-0.566338</td>\n",
       "    </tr>\n",
       "    <tr>\n",
       "      <th>13</th>\n",
       "      <td>674.572</td>\n",
       "      <td>2.842e+14</td>\n",
       "      <td>3.52e+14</td>\n",
       "      <td>2.01469e+14</td>\n",
       "      <td>-0.427644</td>\n",
       "    </tr>\n",
       "    <tr>\n",
       "      <th>14</th>\n",
       "      <td>697.52</td>\n",
       "      <td>2.555e+14</td>\n",
       "      <td>2.37e+14</td>\n",
       "      <td>2.19908e+14</td>\n",
       "      <td>-0.0721177</td>\n",
       "    </tr>\n",
       "  </tbody>\n",
       "</table>\n",
       "</div>"
      ],
      "text/plain": [
       "   velsigma    M500_SZ     M200c     M_powlaw    ep_M200c\n",
       "0    843.07  2.324e+14  2.77e+14  3.61164e+14     0.30384\n",
       "1   747.848  2.681e+14  2.92e+14  2.63905e+14  -0.0962168\n",
       "2   426.237  1.141e+14  1.19e+14   6.0573e+13   -0.490983\n",
       "3   753.334   3.43e+14   2.5e+14  2.69003e+14   0.0760117\n",
       "4   690.516  2.338e+14  1.77e+14  2.14175e+14    0.210027\n",
       "5    485.47  1.309e+14  2.02e+14  8.51558e+13   -0.578437\n",
       "6   670.823   1.26e+14  1.34e+14  1.98552e+14     0.48173\n",
       "7   706.867    2.8e+14  2.26e+14  2.27706e+14  0.00754944\n",
       "8   750.748  3.437e+14  2.04e+14  2.66592e+14    0.306824\n",
       "9   781.662  3.409e+14  4.04e+14  2.96295e+14   -0.266597\n",
       "10  751.004  8.036e+14  4.42e+14   2.6683e+14   -0.396312\n",
       "11  822.919  3.878e+14  1.47e+14     3.39e+14     1.30612\n",
       "12  823.836  4.956e+14  7.84e+14  3.39991e+14   -0.566338\n",
       "13  674.572  2.842e+14  3.52e+14  2.01469e+14   -0.427644\n",
       "14   697.52  2.555e+14  2.37e+14  2.19908e+14  -0.0721177"
      ]
     },
     "execution_count": 14,
     "metadata": {},
     "output_type": "execute_result"
    }
   ],
   "source": [
    "datares = datasum.join(datacalc)\n",
    "\n",
    "datares.head(15)"
   ]
  },
  {
   "cell_type": "code",
   "execution_count": 15,
   "metadata": {},
   "outputs": [],
   "source": [
    "import matplotlib as mpl\n",
    "% matplotlib inline\n",
    "mpl.rcParams['figure.figsize'] = [10.,10.]\n",
    "\n",
    "plt = mpl.pyplot"
   ]
  },
  {
   "cell_type": "code",
   "execution_count": 44,
   "metadata": {},
   "outputs": [],
   "source": [
    "def plothist(X,Y, n=10):\n",
    "    increment = (X.max() - X.min())/n\n",
    "    \n",
    "    i = X.min()\n",
    "    \n",
    "    y = []\n",
    "    err = []\n",
    "    while i < X.max():\n",
    "        y.append(Y[(X>=i) & (X<(i+increment))].mean())\n",
    "        err.append(Y[(X>=i) & (X<(i+increment))].std())\n",
    "        i += increment\n",
    "        \n",
    "    plt.errorbar(np.array(range(n))*increment + X.min() + increment/2.,\n",
    "                 y,\n",
    "                 err,\n",
    "                )"
   ]
  },
  {
   "cell_type": "code",
   "execution_count": 43,
   "metadata": {
    "scrolled": true
   },
   "outputs": [
    {
     "ename": "RuntimeError",
     "evalue": "xdata and ydata must be the same length",
     "output_type": "error",
     "traceback": [
      "\u001b[0;31m---------------------------------------------------------------------------\u001b[0m",
      "\u001b[0;31mRuntimeError\u001b[0m                              Traceback (most recent call last)",
      "\u001b[0;32m<ipython-input-43-0c900096723b>\u001b[0m in \u001b[0;36m<module>\u001b[0;34m()\u001b[0m\n\u001b[1;32m      5\u001b[0m \u001b[0mplt\u001b[0m\u001b[0;34m.\u001b[0m\u001b[0mylabel\u001b[0m\u001b[0;34m(\u001b[0m\u001b[0;34m'log[ M_powlaw ]'\u001b[0m\u001b[0;34m,\u001b[0m \u001b[0mfontsize\u001b[0m\u001b[0;34m=\u001b[0m\u001b[0;36m20\u001b[0m\u001b[0;34m)\u001b[0m\u001b[0;34m\u001b[0m\u001b[0m\n\u001b[1;32m      6\u001b[0m \u001b[0;34m\u001b[0m\u001b[0m\n\u001b[0;32m----> 7\u001b[0;31m \u001b[0mplothist\u001b[0m\u001b[0;34m(\u001b[0m\u001b[0mX\u001b[0m\u001b[0;34m,\u001b[0m\u001b[0mY\u001b[0m\u001b[0;34m,\u001b[0m\u001b[0;36m10\u001b[0m\u001b[0;34m)\u001b[0m\u001b[0;34m\u001b[0m\u001b[0m\n\u001b[0m",
      "\u001b[0;32m<ipython-input-42-0dd9c3dd2ef2>\u001b[0m in \u001b[0;36mplothist\u001b[0;34m(X, Y, n)\u001b[0m\n\u001b[1;32m     13\u001b[0m     plt.errorbar(np.array(range(n))*increment + X.min() + increment/2.,\n\u001b[1;32m     14\u001b[0m                  \u001b[0my\u001b[0m\u001b[0;34m,\u001b[0m\u001b[0;34m\u001b[0m\u001b[0m\n\u001b[0;32m---> 15\u001b[0;31m                  \u001b[0merr\u001b[0m\u001b[0;34m,\u001b[0m\u001b[0;34m\u001b[0m\u001b[0m\n\u001b[0m\u001b[1;32m     16\u001b[0m                 )\n",
      "\u001b[0;32m/usr/lib64/python3.6/site-packages/matplotlib/pyplot.py\u001b[0m in \u001b[0;36merrorbar\u001b[0;34m(x, y, yerr, xerr, fmt, ecolor, elinewidth, capsize, barsabove, lolims, uplims, xlolims, xuplims, errorevery, capthick, hold, data, **kwargs)\u001b[0m\n\u001b[1;32m   2927\u001b[0m                           \u001b[0mxlolims\u001b[0m\u001b[0;34m=\u001b[0m\u001b[0mxlolims\u001b[0m\u001b[0;34m,\u001b[0m \u001b[0mxuplims\u001b[0m\u001b[0;34m=\u001b[0m\u001b[0mxuplims\u001b[0m\u001b[0;34m,\u001b[0m\u001b[0;34m\u001b[0m\u001b[0m\n\u001b[1;32m   2928\u001b[0m                           \u001b[0merrorevery\u001b[0m\u001b[0;34m=\u001b[0m\u001b[0merrorevery\u001b[0m\u001b[0;34m,\u001b[0m \u001b[0mcapthick\u001b[0m\u001b[0;34m=\u001b[0m\u001b[0mcapthick\u001b[0m\u001b[0;34m,\u001b[0m \u001b[0mdata\u001b[0m\u001b[0;34m=\u001b[0m\u001b[0mdata\u001b[0m\u001b[0;34m,\u001b[0m\u001b[0;34m\u001b[0m\u001b[0m\n\u001b[0;32m-> 2929\u001b[0;31m                           **kwargs)\n\u001b[0m\u001b[1;32m   2930\u001b[0m     \u001b[0;32mfinally\u001b[0m\u001b[0;34m:\u001b[0m\u001b[0;34m\u001b[0m\u001b[0m\n\u001b[1;32m   2931\u001b[0m         \u001b[0max\u001b[0m\u001b[0;34m.\u001b[0m\u001b[0m_hold\u001b[0m \u001b[0;34m=\u001b[0m \u001b[0mwashold\u001b[0m\u001b[0;34m\u001b[0m\u001b[0m\n",
      "\u001b[0;32m/usr/lib64/python3.6/site-packages/matplotlib/__init__.py\u001b[0m in \u001b[0;36minner\u001b[0;34m(ax, *args, **kwargs)\u001b[0m\n\u001b[1;32m   1896\u001b[0m                     warnings.warn(msg % (label_namer, func.__name__),\n\u001b[1;32m   1897\u001b[0m                                   RuntimeWarning, stacklevel=2)\n\u001b[0;32m-> 1898\u001b[0;31m             \u001b[0;32mreturn\u001b[0m \u001b[0mfunc\u001b[0m\u001b[0;34m(\u001b[0m\u001b[0max\u001b[0m\u001b[0;34m,\u001b[0m \u001b[0;34m*\u001b[0m\u001b[0margs\u001b[0m\u001b[0;34m,\u001b[0m \u001b[0;34m**\u001b[0m\u001b[0mkwargs\u001b[0m\u001b[0;34m)\u001b[0m\u001b[0;34m\u001b[0m\u001b[0m\n\u001b[0m\u001b[1;32m   1899\u001b[0m         \u001b[0mpre_doc\u001b[0m \u001b[0;34m=\u001b[0m \u001b[0minner\u001b[0m\u001b[0;34m.\u001b[0m\u001b[0m__doc__\u001b[0m\u001b[0;34m\u001b[0m\u001b[0m\n\u001b[1;32m   1900\u001b[0m         \u001b[0;32mif\u001b[0m \u001b[0mpre_doc\u001b[0m \u001b[0;32mis\u001b[0m \u001b[0;32mNone\u001b[0m\u001b[0;34m:\u001b[0m\u001b[0;34m\u001b[0m\u001b[0m\n",
      "\u001b[0;32m/usr/lib64/python3.6/site-packages/matplotlib/axes/_axes.py\u001b[0m in \u001b[0;36merrorbar\u001b[0;34m(self, x, y, yerr, xerr, fmt, ecolor, elinewidth, capsize, barsabove, lolims, uplims, xlolims, xuplims, errorevery, capthick, **kwargs)\u001b[0m\n\u001b[1;32m   2905\u001b[0m         \u001b[0;32mif\u001b[0m \u001b[0mplot_line\u001b[0m\u001b[0;34m:\u001b[0m\u001b[0;34m\u001b[0m\u001b[0m\n\u001b[1;32m   2906\u001b[0m             \u001b[0mdata_line\u001b[0m \u001b[0;34m=\u001b[0m \u001b[0mmlines\u001b[0m\u001b[0;34m.\u001b[0m\u001b[0mLine2D\u001b[0m\u001b[0;34m(\u001b[0m\u001b[0mx\u001b[0m\u001b[0;34m,\u001b[0m \u001b[0my\u001b[0m\u001b[0;34m,\u001b[0m \u001b[0;34m**\u001b[0m\u001b[0mplot_line_style\u001b[0m\u001b[0;34m)\u001b[0m\u001b[0;34m\u001b[0m\u001b[0m\n\u001b[0;32m-> 2907\u001b[0;31m             \u001b[0mself\u001b[0m\u001b[0;34m.\u001b[0m\u001b[0madd_line\u001b[0m\u001b[0;34m(\u001b[0m\u001b[0mdata_line\u001b[0m\u001b[0;34m)\u001b[0m\u001b[0;34m\u001b[0m\u001b[0m\n\u001b[0m\u001b[1;32m   2908\u001b[0m \u001b[0;34m\u001b[0m\u001b[0m\n\u001b[1;32m   2909\u001b[0m         \u001b[0mbarcols\u001b[0m \u001b[0;34m=\u001b[0m \u001b[0;34m[\u001b[0m\u001b[0;34m]\u001b[0m\u001b[0;34m\u001b[0m\u001b[0m\n",
      "\u001b[0;32m/usr/lib64/python3.6/site-packages/matplotlib/axes/_base.py\u001b[0m in \u001b[0;36madd_line\u001b[0;34m(self, line)\u001b[0m\n\u001b[1;32m   1791\u001b[0m             \u001b[0mline\u001b[0m\u001b[0;34m.\u001b[0m\u001b[0mset_clip_path\u001b[0m\u001b[0;34m(\u001b[0m\u001b[0mself\u001b[0m\u001b[0;34m.\u001b[0m\u001b[0mpatch\u001b[0m\u001b[0;34m)\u001b[0m\u001b[0;34m\u001b[0m\u001b[0m\n\u001b[1;32m   1792\u001b[0m \u001b[0;34m\u001b[0m\u001b[0m\n\u001b[0;32m-> 1793\u001b[0;31m         \u001b[0mself\u001b[0m\u001b[0;34m.\u001b[0m\u001b[0m_update_line_limits\u001b[0m\u001b[0;34m(\u001b[0m\u001b[0mline\u001b[0m\u001b[0;34m)\u001b[0m\u001b[0;34m\u001b[0m\u001b[0m\n\u001b[0m\u001b[1;32m   1794\u001b[0m         \u001b[0;32mif\u001b[0m \u001b[0;32mnot\u001b[0m \u001b[0mline\u001b[0m\u001b[0;34m.\u001b[0m\u001b[0mget_label\u001b[0m\u001b[0;34m(\u001b[0m\u001b[0;34m)\u001b[0m\u001b[0;34m:\u001b[0m\u001b[0;34m\u001b[0m\u001b[0m\n\u001b[1;32m   1795\u001b[0m             \u001b[0mline\u001b[0m\u001b[0;34m.\u001b[0m\u001b[0mset_label\u001b[0m\u001b[0;34m(\u001b[0m\u001b[0;34m'_line%d'\u001b[0m \u001b[0;34m%\u001b[0m \u001b[0mlen\u001b[0m\u001b[0;34m(\u001b[0m\u001b[0mself\u001b[0m\u001b[0;34m.\u001b[0m\u001b[0mlines\u001b[0m\u001b[0;34m)\u001b[0m\u001b[0;34m)\u001b[0m\u001b[0;34m\u001b[0m\u001b[0m\n",
      "\u001b[0;32m/usr/lib64/python3.6/site-packages/matplotlib/axes/_base.py\u001b[0m in \u001b[0;36m_update_line_limits\u001b[0;34m(self, line)\u001b[0m\n\u001b[1;32m   1813\u001b[0m         \u001b[0mFigures\u001b[0m \u001b[0mout\u001b[0m \u001b[0mthe\u001b[0m \u001b[0mdata\u001b[0m \u001b[0mlimit\u001b[0m \u001b[0mof\u001b[0m \u001b[0mthe\u001b[0m \u001b[0mgiven\u001b[0m \u001b[0mline\u001b[0m\u001b[0;34m,\u001b[0m \u001b[0mupdating\u001b[0m \u001b[0mself\u001b[0m\u001b[0;34m.\u001b[0m\u001b[0mdataLim\u001b[0m\u001b[0;34m.\u001b[0m\u001b[0;34m\u001b[0m\u001b[0m\n\u001b[1;32m   1814\u001b[0m         \"\"\"\n\u001b[0;32m-> 1815\u001b[0;31m         \u001b[0mpath\u001b[0m \u001b[0;34m=\u001b[0m \u001b[0mline\u001b[0m\u001b[0;34m.\u001b[0m\u001b[0mget_path\u001b[0m\u001b[0;34m(\u001b[0m\u001b[0;34m)\u001b[0m\u001b[0;34m\u001b[0m\u001b[0m\n\u001b[0m\u001b[1;32m   1816\u001b[0m         \u001b[0;32mif\u001b[0m \u001b[0mpath\u001b[0m\u001b[0;34m.\u001b[0m\u001b[0mvertices\u001b[0m\u001b[0;34m.\u001b[0m\u001b[0msize\u001b[0m \u001b[0;34m==\u001b[0m \u001b[0;36m0\u001b[0m\u001b[0;34m:\u001b[0m\u001b[0;34m\u001b[0m\u001b[0m\n\u001b[1;32m   1817\u001b[0m             \u001b[0;32mreturn\u001b[0m\u001b[0;34m\u001b[0m\u001b[0m\n",
      "\u001b[0;32m/usr/lib64/python3.6/site-packages/matplotlib/lines.py\u001b[0m in \u001b[0;36mget_path\u001b[0;34m(self)\u001b[0m\n\u001b[1;32m    987\u001b[0m         \"\"\"\n\u001b[1;32m    988\u001b[0m         \u001b[0;32mif\u001b[0m \u001b[0mself\u001b[0m\u001b[0;34m.\u001b[0m\u001b[0m_invalidy\u001b[0m \u001b[0;32mor\u001b[0m \u001b[0mself\u001b[0m\u001b[0;34m.\u001b[0m\u001b[0m_invalidx\u001b[0m\u001b[0;34m:\u001b[0m\u001b[0;34m\u001b[0m\u001b[0m\n\u001b[0;32m--> 989\u001b[0;31m             \u001b[0mself\u001b[0m\u001b[0;34m.\u001b[0m\u001b[0mrecache\u001b[0m\u001b[0;34m(\u001b[0m\u001b[0;34m)\u001b[0m\u001b[0;34m\u001b[0m\u001b[0m\n\u001b[0m\u001b[1;32m    990\u001b[0m         \u001b[0;32mreturn\u001b[0m \u001b[0mself\u001b[0m\u001b[0;34m.\u001b[0m\u001b[0m_path\u001b[0m\u001b[0;34m\u001b[0m\u001b[0m\n\u001b[1;32m    991\u001b[0m \u001b[0;34m\u001b[0m\u001b[0m\n",
      "\u001b[0;32m/usr/lib64/python3.6/site-packages/matplotlib/lines.py\u001b[0m in \u001b[0;36mrecache\u001b[0;34m(self, always)\u001b[0m\n\u001b[1;32m    694\u001b[0m \u001b[0;34m\u001b[0m\u001b[0m\n\u001b[1;32m    695\u001b[0m         \u001b[0;32mif\u001b[0m \u001b[0mlen\u001b[0m\u001b[0;34m(\u001b[0m\u001b[0mx\u001b[0m\u001b[0;34m)\u001b[0m \u001b[0;34m!=\u001b[0m \u001b[0mlen\u001b[0m\u001b[0;34m(\u001b[0m\u001b[0my\u001b[0m\u001b[0;34m)\u001b[0m\u001b[0;34m:\u001b[0m\u001b[0;34m\u001b[0m\u001b[0m\n\u001b[0;32m--> 696\u001b[0;31m             \u001b[0;32mraise\u001b[0m \u001b[0mRuntimeError\u001b[0m\u001b[0;34m(\u001b[0m\u001b[0;34m'xdata and ydata must be the same length'\u001b[0m\u001b[0;34m)\u001b[0m\u001b[0;34m\u001b[0m\u001b[0m\n\u001b[0m\u001b[1;32m    697\u001b[0m \u001b[0;34m\u001b[0m\u001b[0m\n\u001b[1;32m    698\u001b[0m         \u001b[0mself\u001b[0m\u001b[0;34m.\u001b[0m\u001b[0m_xy\u001b[0m \u001b[0;34m=\u001b[0m \u001b[0mnp\u001b[0m\u001b[0;34m.\u001b[0m\u001b[0mempty\u001b[0m\u001b[0;34m(\u001b[0m\u001b[0;34m(\u001b[0m\u001b[0mlen\u001b[0m\u001b[0;34m(\u001b[0m\u001b[0mx\u001b[0m\u001b[0;34m)\u001b[0m\u001b[0;34m,\u001b[0m \u001b[0;36m2\u001b[0m\u001b[0;34m)\u001b[0m\u001b[0;34m,\u001b[0m \u001b[0mdtype\u001b[0m\u001b[0;34m=\u001b[0m\u001b[0mnp\u001b[0m\u001b[0;34m.\u001b[0m\u001b[0mfloat_\u001b[0m\u001b[0;34m)\u001b[0m\u001b[0;34m\u001b[0m\u001b[0m\n",
      "\u001b[0;31mRuntimeError\u001b[0m: xdata and ydata must be the same length"
     ]
    },
    {
     "data": {
      "image/png": "[encoded data removed]",
      "text/plain": [
       "<matplotlib.figure.Figure at 0x7fd2d3ed85c0>"
      ]
     },
     "metadata": {},
     "output_type": "display_data"
    }
   ],
   "source": [
    "X = np.log10(datares['M200c'].astype('float64'))\n",
    "Y = np.log10(datares['M_powlaw'].astype('float64'))\n",
    "plt.plot(X,Y,'.')\n",
    "plt.xlabel('log[ M200c ]', fontsize=20)\n",
    "plt.ylabel('log[ M_powlaw ]', fontsize=20)\n",
    "\n",
    "plothist(X,Y,10)"
   ]
  },
  {
   "cell_type": "code",
   "execution_count": 18,
   "metadata": {},
   "outputs": [
    {
     "data": {
      "image/png": "[encoded data removed]",
      "text/plain": [
       "<matplotlib.figure.Figure at 0x7fd2d3862ef0>"
      ]
     },
     "metadata": {},
     "output_type": "display_data"
    }
   ],
   "source": [
    "X = np.log10(datares['M200c'].astype('float64'))\n",
    "Y = (datares['ep_M200c'].astype('float64'))\n",
    "plt.plot(X,Y,'.')\n",
    "plt.xlabel('log[ M200c ]', fontsize=20)\n",
    "plt.ylabel(r'$\\epsilon_{M200c}$', fontsize=20)\n",
    "\n",
    "plothist(X,Y,10)"
   ]
  },
  {
   "cell_type": "code",
   "execution_count": 19,
   "metadata": {},
   "outputs": [
    {
     "name": "stdout",
     "output_type": "stream",
     "text": [
      "cluster index: 20\n",
      "velocity standard deviation: 690.939\n",
      "cluster M500 from SZ: 2.912e+14\n",
      "cluster M200c: 4.13e+14\n"
     ]
    },
    {
     "data": {
      "image/png": "[encoded data removed]",
      "text/plain": [
       "<matplotlib.figure.Figure at 0x7fd2bfe8f710>"
      ]
     },
     "metadata": {},
     "output_type": "display_data"
    }
   ],
   "source": [
    "n = 20\n",
    "\n",
    "Ngal = dat['Ngal'][n]\n",
    "vlos = dat['vlos'][n][0:Ngal]\n",
    "\n",
    "h = plt.hist(np.absolute(vlos), 12)\n",
    "plt.xlabel(r'$v_{los}$', fontsize=20)\n",
    "plt.ylabel(r'$dN/dv$', fontsize=20)\n",
    "\n",
    "print('cluster index:', n)\n",
    "print('velocity standard deviation:', np.std(dat['vlos'][n][0:Ngal])) \n",
    "print ('cluster M500 from SZ:', dat['MSZ'][n])\n",
    "print ('cluster M200c:', dat['Mtot'][n])"
   ]
  },
  {
   "cell_type": "markdown",
   "metadata": {},
   "source": [
    "# Using HeCS to train SDM"
   ]
  },
  {
   "cell_type": "code",
   "execution_count": 46,
   "metadata": {},
   "outputs": [],
   "source": [
    "type(dat)\n",
    "\n",
    "for n in range(len(dat)):\n",
    "    Ngal = dat['Ngal'][n]\n",
    "    \n",
    "    velsigma = np.std(dat['vlos'][n][0:Ngal])\n",
    "    m500 = dat['MSZ'][n]\n",
    "    m200c = dat['Mtot'][n]\n",
    "    \n",
    "    datasum.loc[n] = pd.Series({'velsigma':velsigma ,\n",
    "                                'M500_SZ' : m500 ,\n",
    "                                'M200c' : m200c })"
   ]
  },
  {
   "cell_type": "code",
   "execution_count": 47,
   "metadata": {},
   "outputs": [],
   "source": [
    "dat = np.load('./data/HeCS_pared_small.npy')\n",
    "\n",
    "featuresList = []\n",
    "massList = []\n",
    "\n",
    "numHalos = len(dat)\n",
    "\n",
    "#loop through all of the halos\n",
    "for h in range(numHalos):\n",
    "        numSubs = dat['Ngal'][h]\n",
    "        \n",
    "        #make a numpy array that will hold, in this case, 3 features for each of the numSubs subhalos.  Be aware that SDM requires at least 2 dimensions, so if you want to use line of sight velocity, you'll have to fill in a dummy value for the 2nd dimension.  I used an array of 1.0's\n",
    "        subfeat = np.zeros((numSubs, 2), 'f')\n",
    "        \n",
    "        #loop through the subhalos/galaxies in this halo:\n",
    "        for sh in range (0, numSubs):\n",
    "            #and fill in each of the features\n",
    "            subfeat[sh][0] = np.abs(dat['vlos'][h][sh])\n",
    "            subfeat[sh][1] = 1.0\n",
    "\n",
    "        #append the numpy array of features to the featuresList\n",
    "        featuresList.append(subfeat)\n",
    "        #and the mass to the massList\n",
    "        massList.append(dat['Mtot'])\n",
    "\n",
    "#turn this into a features object:\n",
    "# features = sdm.Features(featuresList, mass=massList)\n",
    "\n",
    "#model.crossvalidate is the workhorse.  It will do the 10-fold crossvalidation to predict answers for all of your data.  It outputs root mean squared error (rmse) and mass predictions:\n",
    "# rmse, predictions = model.crossvalidate(trainData, trainData.mass)"
   ]
  },
  {
   "cell_type": "code",
   "execution_count": 48,
   "metadata": {
    "scrolled": false
   },
   "outputs": [
    {
     "data": {
      "text/plain": [
       "dict_keys(['mass', 'feat', 'predictions', 'rmse'])"
      ]
     },
     "execution_count": 48,
     "metadata": {},
     "output_type": "execute_result"
    }
   ],
   "source": [
    "tempres = np.load('./tempresults.npy', encoding='latin1').item()\n",
    "tempres.keys()"
   ]
  },
  {
   "cell_type": "code",
   "execution_count": 49,
   "metadata": {
    "scrolled": false
   },
   "outputs": [
    {
     "data": {
      "image/png": "[encoded data removed]",
      "text/plain": [
       "<matplotlib.figure.Figure at 0x7fd2d3fdb438>"
      ]
     },
     "metadata": {},
     "output_type": "display_data"
    }
   ],
   "source": [
    "X = np.log10(tempres['mass']).astype('float64')\n",
    "Y = np.log10(tempres['predictions']).astype('float64')\n",
    "plt.plot(X,Y,'.')\n",
    "plt.xlabel('log[ M200c ]', fontsize=20)\n",
    "plt.ylabel('log[ M_SDM ]', fontsize=20)\n",
    "\n",
    "plothist(X,Y,10)"
   ]
  },
  {
   "cell_type": "code",
   "execution_count": 40,
   "metadata": {
    "scrolled": true
   },
   "outputs": [
    {
     "data": {
      "text/plain": [
       "dtype('float32')"
      ]
     },
     "execution_count": 40,
     "metadata": {},
     "output_type": "execute_result"
    }
   ],
   "source": [
    "X.astype"
   ]
  },
  {
   "cell_type": "code",
   "execution_count": 38,
   "metadata": {},
   "outputs": [
    {
     "data": {
      "text/plain": [
       "array([ 14.57518784,  14.52955867,  14.51587384,  14.51982797,\n",
       "        14.57518784,  14.51255098,  14.57460993,  14.57170882,\n",
       "        14.57460993,  14.57518784,  14.53083977,  14.53083977,\n",
       "        14.54654266,  14.52955867,  14.54654266,  14.51982797,\n",
       "        14.57460993,  14.57460993,  14.57460993,  14.53083977,\n",
       "        14.51982797,  14.51982797,  14.53083977,  14.51982797,\n",
       "        14.51255098,  14.51587384,  14.57170882,  14.51982797,\n",
       "        14.52955867,  14.54654266,  14.51982797,  14.51982797,\n",
       "        14.51255098,  14.51587384,  14.51587384,  14.57460993,\n",
       "        14.57460993,  14.51587384,  14.51255098,  14.57518784,\n",
       "        14.52955867,  14.57518784,  14.57170882,  14.51587384,\n",
       "        14.51982797,  14.57170882,  14.54654266,  14.51255099,\n",
       "        14.51587384,  14.51982797,  14.51982797,  14.57170882,\n",
       "        14.57460993,  14.52955867,  14.51255098,  14.54654266,\n",
       "        14.52955867,  14.51982797,  14.54654266,  14.52955867,\n",
       "        14.51255098,  14.51982797,  14.51255098,  14.53083977,\n",
       "        14.51982797,  14.57518784,  14.57518784,  14.52955867,\n",
       "        14.57518784,  14.53083977,  14.57170882,  14.57460993,\n",
       "        14.53083977,  14.51587384,  14.53083977,  14.51982797,\n",
       "        14.57170882,  14.54654266,  14.57170882,  14.54654266,\n",
       "        14.51982797,  14.51255098])"
      ]
     },
     "execution_count": 38,
     "metadata": {},
     "output_type": "execute_result"
    }
   ],
   "source": []
  },
  {
   "cell_type": "code",
   "execution_count": null,
   "metadata": {},
   "outputs": [],
   "source": []
  },
  {
   "cell_type": "markdown",
   "metadata": {},
   "source": [
    "# Minghan's Data (coma.p)"
   ]
  },
  {
   "cell_type": "code",
   "execution_count": 41,
   "metadata": {
    "collapsed": true
   },
   "outputs": [],
   "source": [
    "comadat = np.load('./data/coma.p')[0]"
   ]
  },
  {
   "cell_type": "code",
   "execution_count": 45,
   "metadata": {},
   "outputs": [
    {
     "name": "stdout",
     "output_type": "stream",
     "text": [
      "cluster: COMA\n",
      "('velocity standard deviation:', 568.73431)\n",
      "('mass from power law:', '1.289e+14')\n"
     ]
    },
    {
     "data": {
      "image/png": "[encoded data removed]",
      "text/plain": [
       "<matplotlib.figure.Figure at 0x7f05c34d0f90>"
      ]
     },
     "metadata": {},
     "output_type": "display_data"
    }
   ],
   "source": [
    "vlos = []\n",
    "for i in comadat:\n",
    "    vlos.append(i[0])\n",
    "    \n",
    "h = plt.hist(vlos, 15)\n",
    "plt.xlabel(r'$v_{los}$', fontsize=20)\n",
    "plt.ylabel(r'$dN/dv$', fontsize=20)\n",
    "\n",
    "velsigma_coma = np.std(vlos)\n",
    "M_pow_coma = (velsigma_coma/sig15)**(1/alpha) * 1.e15\n",
    "\n",
    "print ('cluster: COMA')\n",
    "print ('velocity standard deviation:', np.std(vlos))\n",
    "print ('mass from power law:', \"%.4g\" % M_pow_coma)"
   ]
  },
  {
   "cell_type": "code",
   "execution_count": null,
   "metadata": {
    "collapsed": true
   },
   "outputs": [],
   "source": []
  }
 ],
 "metadata": {
  "kernelspec": {
   "display_name": "Python 3",
   "language": "python",
   "name": "python3"
  },
  "language_info": {
   "codemirror_mode": {
    "name": "ipython",
    "version": 3
   },
   "file_extension": ".py",
   "mimetype": "text/x-python",
   "name": "python",
   "nbconvert_exporter": "python",
   "pygments_lexer": "ipython3",
   "version": "3.6.2"
  }
 },
 "nbformat": 4,
 "nbformat_minor": 2
}
